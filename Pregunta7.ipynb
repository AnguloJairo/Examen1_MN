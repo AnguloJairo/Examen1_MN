{
 "cells": [
  {
   "attachments": {
    "image.png": {
     "image/png": "[encoded data removed]"
    }
   },
   "cell_type": "markdown",
   "id": "0c00a4c7",
   "metadata": {},
   "source": [
    "# Pregunta 7\n",
    "### Nombre: Jairo Angulo\n",
    "\n",
    "![image.png](attachment:image.png)"
   ]
  },
  {
   "cell_type": "code",
   "execution_count": 1,
   "id": "ed09a517",
   "metadata": {},
   "outputs": [],
   "source": [
    "def secant_method(f, x0, x1, tol=1e-6, max_iter=100):    \n",
    "    x_prev = x0\n",
    "    x_curr = x1\n",
    "    iter_count = 0\n",
    "\n",
    "    while abs(f(x_curr)) > tol and iter_count < max_iter:\n",
    "        x_next = x_curr - f(x_curr) * (x_curr - x_prev) / (f(x_curr) - f(x_prev))\n",
    "\n",
    "        x_prev = x_curr\n",
    "        x_curr = x_next\n",
    "        iter_count += 1\n",
    "\n",
    "    return x_curr, iter_count\n",
    "\n"
   ]
  },
  {
   "cell_type": "markdown",
   "id": "761b4358",
   "metadata": {},
   "source": [
    "## Corregido"
   ]
  },
  {
   "cell_type": "code",
   "execution_count": 6,
   "id": "123db0a4",
   "metadata": {},
   "outputs": [
    {
     "name": "stdout",
     "output_type": "stream",
     "text": [
      "Llamada i=1\t x=3.00000\t y=2.00\n",
      "Llamada i=2\t x=3.00000\t y=2.00\n",
      "Llamada i=3\t x=3.00000\t y=2.00\n",
      "Llamada i=4\t x=2.00000\t y=-3.00\n",
      "Llamada i=5\t x=2.60000\t y=-1.10\n",
      "Llamada i=6\t x=2.60000\t y=-1.10\n",
      "Llamada i=7\t x=2.60000\t y=-1.10\n",
      "Llamada i=8\t x=3.00000\t y=2.00\n",
      "Llamada i=9\t x=2.74227\t y=-0.20\n",
      "Llamada i=10\t x=2.74227\t y=-0.20\n",
      "Llamada i=11\t x=2.74227\t y=-0.20\n",
      "Llamada i=12\t x=2.60000\t y=-1.10\n",
      "Llamada i=13\t x=2.77296\t y=0.03\n",
      "Llamada i=14\t x=2.77296\t y=0.03\n",
      "Llamada i=15\t x=2.77296\t y=0.03\n",
      "Llamada i=16\t x=2.74227\t y=-0.20\n",
      "Llamada i=17\t x=2.76922\t y=-0.00\n",
      "Llamada i=18\t x=2.76922\t y=-0.00\n",
      "Llamada i=19\t x=2.76922\t y=-0.00\n",
      "Llamada i=20\t x=2.77296\t y=0.03\n",
      "Llamada i=21\t x=2.76929\t y=-0.00\n",
      "Llamada i=22\t x=2.76929\t y=-0.00\n",
      "Llamada i=23\t x=2.76929\t y=-0.00\n",
      "Llamada i=24\t x=2.76922\t y=-0.00\n",
      "Llamada i=25\t x=2.76929\t y=0.00\n"
     ]
    },
    {
     "data": {
      "text/plain": [
       "(2.7692923542484045, 6)"
      ]
     },
     "execution_count": 6,
     "metadata": {},
     "output_type": "execute_result"
    }
   ],
   "source": [
    "def secant_method(f, x0, x1, tol=1e-6, max_iter=100):\n",
    "    x_prev = x0\n",
    "    x_curr = x1\n",
    "    iter_count = 0\n",
    "\n",
    "    while abs(f(x_curr)) > tol and iter_count < max_iter:\n",
    "        x_next = x_curr - f(x_curr) * (x_curr - x_prev) / (f(x_curr) - f(x_prev))\n",
    "        x_prev = x_curr\n",
    "        x_curr = x_next\n",
    "        iter_count += 1\n",
    "\n",
    "    return x_curr, iter_count\n",
    "\n",
    "def func(x):\n",
    "    global i\n",
    "    i += 1\n",
    "    y = x**3 - 3 * x**2 + x - 1\n",
    "    print(f\"Llamada i={i}\\t x={x:.5f}\\t y={y:.2f}\")\n",
    "    return y\n",
    "\n",
    "i = 0\n",
    "secant_method(func, x0=2, x1=3)"
   ]
  },
  {
   "cell_type": "markdown",
   "id": "c4de771d",
   "metadata": {},
   "source": [
    "### Ejemplo 1\n",
    "x_0=2, x_1=3"
   ]
  },
  {
   "cell_type": "code",
   "execution_count": 7,
   "id": "2478ee28",
   "metadata": {},
   "outputs": [
    {
     "name": "stdout",
     "output_type": "stream",
     "text": [
      "Llamada i=1\t x=2.00000\t y=-3.00\n",
      "Llamada i=2\t x=3.00000\t y=2.00\n",
      "Llamada i=3\t x=2.60000\t y=-1.10\n",
      "Llamada i=4\t x=2.74227\t y=-0.20\n",
      "Llamada i=5\t x=2.77296\t y=0.03\n",
      "Llamada i=6\t x=2.76922\t y=-0.00\n",
      "Llamada i=7\t x=2.76929\t y=-0.00\n",
      "Llamada i=8\t x=2.76929\t y=0.00\n",
      "6\n"
     ]
    },
    {
     "data": {
      "text/plain": [
       "(2.7692923542484045, 6)"
      ]
     },
     "execution_count": 7,
     "metadata": {},
     "output_type": "execute_result"
    }
   ],
   "source": [
    "def secant_method(f, x0, x1, tol=1e-6, max_iter=100):\n",
    "    x_prev = x0\n",
    "    x_curr = x1\n",
    "    f_prev = f(x_prev)\n",
    "    f_curr = f(x_curr)\n",
    "    iter_count = 0\n",
    "\n",
    "    while abs(f_curr) > tol and iter_count < max_iter:\n",
    "        x_next = x_curr - f_curr * (x_curr - x_prev) / (f_curr - f_prev)\n",
    "        x_prev, f_prev = x_curr, f_curr\n",
    "        x_curr = x_next\n",
    "        f_curr = f(x_curr)\n",
    "        iter_count += 1\n",
    "    \n",
    "    print(iter_count)\n",
    "\n",
    "    return x_curr, iter_count\n",
    "\n",
    "def func(x):\n",
    "    global i\n",
    "    i += 1\n",
    "    y = x**3 - 3 * x**2 + x - 1\n",
    "    print(f\"Llamada i={i}\\t x={x:.5f}\\t y={y:.2f}\")\n",
    "    return y\n",
    "\n",
    "i = 0\n",
    "secant_method(func, x0=2, x1=3)"
   ]
  },
  {
   "cell_type": "markdown",
   "id": "24dcd5e7",
   "metadata": {},
   "source": [
    "### Ejemplo 2\n",
    "x_0=2, x_1=3"
   ]
  },
  {
   "cell_type": "code",
   "execution_count": 9,
   "id": "1b5fd6c5",
   "metadata": {},
   "outputs": [
    {
     "name": "stdout",
     "output_type": "stream",
     "text": [
      "Llamada i=1\t x=2.00000\t y=1.41\n",
      "Llamada i=2\t x=3.00000\t y=0.64\n",
      "Llamada i=3\t x=3.83460\t y=-0.14\n",
      "Llamada i=4\t x=3.68602\t y=-0.02\n",
      "Llamada i=5\t x=3.66399\t y=0.00\n",
      "Llamada i=6\t x=3.66520\t y=-0.00\n",
      "Llamada i=7\t x=3.66519\t y=-0.00\n",
      "5\n"
     ]
    },
    {
     "data": {
      "text/plain": [
       "(3.66519143172732, 5)"
      ]
     },
     "execution_count": 9,
     "metadata": {},
     "output_type": "execute_result"
    }
   ],
   "source": [
    "import math as np\n",
    "def secant_method(f, x0, x1, tol=1e-6, max_iter=100):\n",
    "    x_prev = x0\n",
    "    x_curr = x1\n",
    "    f_prev = f(x_prev)\n",
    "    f_curr = f(x_curr)\n",
    "    iter_count = 0\n",
    "\n",
    "    while abs(f_curr) > tol and iter_count < max_iter:\n",
    "        x_next = x_curr - f_curr * (x_curr - x_prev) / (f_curr - f_prev)\n",
    "        x_prev, f_prev = x_curr, f_curr\n",
    "        x_curr = x_next\n",
    "        f_curr = f(x_curr)\n",
    "        iter_count += 1\n",
    "        \n",
    "    \n",
    "    print(iter_count)\n",
    "\n",
    "    return x_curr, iter_count\n",
    "\n",
    "def func(x):\n",
    "    global i\n",
    "    i += 1\n",
    "    y = np.sin(x)+0.5\n",
    "    print(f\"Llamada i={i}\\t x={x:.5f}\\t y={y:.2f}\")\n",
    "    return y\n",
    "\n",
    "i = 0\n",
    "secant_method(func, x0=2, x1=3)     ##valores del ejercicio"
   ]
  }
 ],
 "metadata": {
  "kernelspec": {
   "display_name": "Python 3",
   "language": "python",
   "name": "python3"
  },
  "language_info": {
   "codemirror_mode": {
    "name": "ipython",
    "version": 3
   },
   "file_extension": ".py",
   "mimetype": "text/x-python",
   "name": "python",
   "nbconvert_exporter": "python",
   "pygments_lexer": "ipython3",
   "version": "3.13.0"
  }
 },
 "nbformat": 4,
 "nbformat_minor": 5
}
